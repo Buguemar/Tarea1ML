{
 "cells": [
  {
   "cell_type": "markdown",
   "metadata": {
    "deletable": true,
    "editable": true
   },
   "source": [
    "# Tarea 1 Machine Learning - Métodos Lineales para Regresión"
   ]
  },
  {
   "cell_type": "markdown",
   "metadata": {
    "deletable": true,
    "editable": true
   },
   "source": [
    "Juan Pablo Muñoz - 201373522-3 \n",
    "\n",
    "Margarita Bugueño Pérez - 201373510-K"
   ]
  },
  {
   "cell_type": "markdown",
   "metadata": {
    "deletable": true,
    "editable": true
   },
   "source": [
    "## 5. Detectar enfermedades cardíacas"
   ]
  },
  {
   "cell_type": "markdown",
   "metadata": {
    "deletable": true,
    "editable": true
   },
   "source": [
    "El dataset contiene 13 atributos en lugar de las 75 que se consideran en el dataset original.  \n",
    "Estas corresponden a:  \n",
    "\n",
    "-- 1. age       \n",
    "-- 2. sex       \n",
    "-- 3. chest pain type  (4 values)       \n",
    "-- 4. resting blood pressure  \n",
    "-- 5. serum cholestoral in mg/dl      \n",
    "-- 6. fasting blood sugar > 120 mg/dl       \n",
    "-- 7. resting electrocardiographic results  (values 0,1,2) \n",
    "-- 8. maximum heart rate achieved  \n",
    "-- 9. exercise induced angina    \n",
    "-- 10. oldpeak = ST depression induced by exercise relative to rest   \n",
    "-- 11. the slope of the peak exercise ST segment     \n",
    "-- 12. number of major vessels (0-3) colored by flourosopy        \n",
    "-- 13.  thal: 3 = normal; 6 = fixed defect; 7 = reversable defect   "
   ]
  },
  {
   "cell_type": "markdown",
   "metadata": {},
   "source": [
    "Y el último atributo, 'normal', que es 1=sano y 2=enfermo para dicho paciente."
   ]
  },
  {
   "cell_type": "markdown",
   "metadata": {
    "deletable": true,
    "editable": true
   },
   "source": [
    "#### a. Cargar el dataset"
   ]
  },
  {
   "cell_type": "code",
   "execution_count": 1,
   "metadata": {
    "collapsed": false,
    "deletable": true,
    "editable": true
   },
   "outputs": [
    {
     "data": {
      "text/html": [
       "<div>\n",
       "<table border=\"1\" class=\"dataframe\">\n",
       "  <thead>\n",
       "    <tr style=\"text-align: right;\">\n",
       "      <th></th>\n",
       "      <th>age</th>\n",
       "      <th>sex</th>\n",
       "      <th>chest_pain</th>\n",
       "      <th>blood_p</th>\n",
       "      <th>serum</th>\n",
       "      <th>blood_s</th>\n",
       "      <th>electro</th>\n",
       "      <th>max_heart</th>\n",
       "      <th>angina</th>\n",
       "      <th>oldpeak</th>\n",
       "      <th>slope</th>\n",
       "      <th>vessel</th>\n",
       "      <th>thal</th>\n",
       "      <th>normal</th>\n",
       "    </tr>\n",
       "  </thead>\n",
       "  <tbody>\n",
       "    <tr>\n",
       "      <th>0</th>\n",
       "      <td>70.0</td>\n",
       "      <td>1.0</td>\n",
       "      <td>4.0</td>\n",
       "      <td>130.0</td>\n",
       "      <td>322.0</td>\n",
       "      <td>0.0</td>\n",
       "      <td>2.0</td>\n",
       "      <td>109.0</td>\n",
       "      <td>0.0</td>\n",
       "      <td>2.4</td>\n",
       "      <td>2.0</td>\n",
       "      <td>3.0</td>\n",
       "      <td>3.0</td>\n",
       "      <td>2</td>\n",
       "    </tr>\n",
       "    <tr>\n",
       "      <th>1</th>\n",
       "      <td>67.0</td>\n",
       "      <td>0.0</td>\n",
       "      <td>3.0</td>\n",
       "      <td>115.0</td>\n",
       "      <td>564.0</td>\n",
       "      <td>0.0</td>\n",
       "      <td>2.0</td>\n",
       "      <td>160.0</td>\n",
       "      <td>0.0</td>\n",
       "      <td>1.6</td>\n",
       "      <td>2.0</td>\n",
       "      <td>0.0</td>\n",
       "      <td>7.0</td>\n",
       "      <td>1</td>\n",
       "    </tr>\n",
       "    <tr>\n",
       "      <th>2</th>\n",
       "      <td>57.0</td>\n",
       "      <td>1.0</td>\n",
       "      <td>2.0</td>\n",
       "      <td>124.0</td>\n",
       "      <td>261.0</td>\n",
       "      <td>0.0</td>\n",
       "      <td>0.0</td>\n",
       "      <td>141.0</td>\n",
       "      <td>0.0</td>\n",
       "      <td>0.3</td>\n",
       "      <td>1.0</td>\n",
       "      <td>0.0</td>\n",
       "      <td>7.0</td>\n",
       "      <td>2</td>\n",
       "    </tr>\n",
       "    <tr>\n",
       "      <th>3</th>\n",
       "      <td>64.0</td>\n",
       "      <td>1.0</td>\n",
       "      <td>4.0</td>\n",
       "      <td>128.0</td>\n",
       "      <td>263.0</td>\n",
       "      <td>0.0</td>\n",
       "      <td>0.0</td>\n",
       "      <td>105.0</td>\n",
       "      <td>1.0</td>\n",
       "      <td>0.2</td>\n",
       "      <td>2.0</td>\n",
       "      <td>1.0</td>\n",
       "      <td>7.0</td>\n",
       "      <td>1</td>\n",
       "    </tr>\n",
       "    <tr>\n",
       "      <th>4</th>\n",
       "      <td>74.0</td>\n",
       "      <td>0.0</td>\n",
       "      <td>2.0</td>\n",
       "      <td>120.0</td>\n",
       "      <td>269.0</td>\n",
       "      <td>0.0</td>\n",
       "      <td>2.0</td>\n",
       "      <td>121.0</td>\n",
       "      <td>1.0</td>\n",
       "      <td>0.2</td>\n",
       "      <td>1.0</td>\n",
       "      <td>1.0</td>\n",
       "      <td>3.0</td>\n",
       "      <td>1</td>\n",
       "    </tr>\n",
       "  </tbody>\n",
       "</table>\n",
       "</div>"
      ],
      "text/plain": [
       "    age  sex  chest_pain  blood_p  serum  blood_s  electro  max_heart  angina  \\\n",
       "0  70.0  1.0         4.0    130.0  322.0      0.0      2.0      109.0     0.0   \n",
       "1  67.0  0.0         3.0    115.0  564.0      0.0      2.0      160.0     0.0   \n",
       "2  57.0  1.0         2.0    124.0  261.0      0.0      0.0      141.0     0.0   \n",
       "3  64.0  1.0         4.0    128.0  263.0      0.0      0.0      105.0     1.0   \n",
       "4  74.0  0.0         2.0    120.0  269.0      0.0      2.0      121.0     1.0   \n",
       "\n",
       "   oldpeak  slope  vessel  thal  normal  \n",
       "0      2.4    2.0     3.0   3.0       2  \n",
       "1      1.6    2.0     0.0   7.0       1  \n",
       "2      0.3    1.0     0.0   7.0       2  \n",
       "3      0.2    2.0     1.0   7.0       1  \n",
       "4      0.2    1.0     1.0   3.0       1  "
      ]
     },
     "execution_count": 1,
     "metadata": {},
     "output_type": "execute_result"
    }
   ],
   "source": [
    "import pandas as pd\n",
    "\n",
    "headers = ['age','sex','chest_pain','blood_p','serum','blood_s','electro','max_heart', \\\n",
    "               'angina','oldpeak','slope','vessel','thal','normal']\n",
    "\n",
    "df = pd.read_csv('heart.dat', header=None, names=headers, sep=' ')\n",
    "\n",
    "df.head()"
   ]
  },
  {
   "cell_type": "markdown",
   "metadata": {
    "deletable": true,
    "editable": true
   },
   "source": [
    "Se observa la serie de datos 'max_heart' con un boxplot para conocer cómo está distribuida y para identificar outliers."
   ]
  },
  {
   "cell_type": "code",
   "execution_count": 2,
   "metadata": {
    "collapsed": false,
    "deletable": true,
    "editable": true
   },
   "outputs": [
    {
     "data": {
      "image/png": "[encoded data removed]",
      "text/plain": [
       "<matplotlib.figure.Figure at 0x7fc3682bfa90>"
      ]
     },
     "metadata": {},
     "output_type": "display_data"
    }
   ],
   "source": [
    "import matplotlib.pyplot as plt\n",
    "\n",
    "plt.clf()\n",
    "\n",
    "plt.boxplot(list(df['max_heart']))\n",
    "plt.xlabel('Datos')\n",
    "plt.ylabel('Max. Heart rate achieved')\n",
    "\n",
    "plt.show()"
   ]
  },
  {
   "cell_type": "code",
   "execution_count": null,
   "metadata": {
    "collapsed": true
   },
   "outputs": [],
   "source": [
    "import matplotlib.pyplot as plt\n",
    "\n",
    "plt.clf()\n",
    "\n",
    "plt.boxplot(list(df['max_heart']))\n",
    "plt.xlabel('Datos')\n",
    "plt.ylabel('Max. Heart rate achieved')\n",
    "\n",
    "plt.show()"
   ]
  },
  {
   "cell_type": "markdown",
   "metadata": {
    "deletable": true,
    "editable": true
   },
   "source": [
    "Los outliers son aquellos puntos $x = max\\_heart$ fuera del rango abarcado por los bigotes, lo que es igual a estar fuera del intervalo $[\\bar{x}-2.698\\sigma, \\bar{x}+2.698\\sigma]$ en una distribución normal. Estadísticamente, se espera que el $0.71\\%$ de los pacientes queden fuera del rango y sean outliers. Dada la baja cantidad de datos disponibles, se decide relajar la condición para considerarse outlier a aquellos puntos $x$ fuera del intervalo $[\\bar{x}-2\\sigma, \\bar{x}+2\\sigma]$, con lo que se espera que el $4.56\\%$ de los pacientes observados sean atípicos y posibles enfermos cardíacos. Notar que esta decisión se basa únicamente en el hecho de que $max\\_heart$ sea un atípico de acuerdo al criterio definido, el cual incluye tanto pacientes con un muy alto ritmo cardíaco como a los con uno muy bajo."
   ]
  },
  {
   "cell_type": "code",
   "execution_count": 3,
   "metadata": {
    "collapsed": true,
    "deletable": true,
    "editable": true
   },
   "outputs": [],
   "source": [
    "def categorizar(vector_continuo):\n",
    "    vector_clasificaciones = []\n",
    "    for x in list(vector_continuo):\n",
    "        if x < np.mean(vector_continuo) - 2*np.std(vector_continuo):\n",
    "            vector_clasificaciones.append(1)\n",
    "        elif x > np.mean(vector_continuo) + 2*np.std(vector_continuo):\n",
    "            vector_clasificaciones.append(1)\n",
    "        else:\n",
    "            vector_clasificaciones.append(0)\n",
    "    return vector_clasificaciones"
   ]
  },
  {
   "cell_type": "code",
   "execution_count": 4,
   "metadata": {
    "collapsed": false,
    "deletable": true,
    "editable": true,
    "scrolled": true
   },
   "outputs": [
    {
     "name": "stdout",
     "output_type": "stream",
     "text": [
      "('Cantidad outliers bajo nuevo criterio:', 10)\n"
     ]
    }
   ],
   "source": [
    "import numpy as np\n",
    "\n",
    "cantidad_outliers = sum(categorizar(df['max_heart']))\n",
    "\n",
    "print('Cantidad outliers bajo nuevo criterio:',cantidad_outliers)"
   ]
  },
  {
   "cell_type": "markdown",
   "metadata": {
    "deletable": true,
    "editable": true
   },
   "source": [
    "De acuerdo al criterio establecido, a partir de los datos, serían 10 pacientes los catalogados como outliers, siendo considerados enfermos (anteriormente sólo existía uno; el único del boxplot anterior). Entonces, se debe aplicar el mismo criterio sobre el modelo de regresión lineal que se va a crear. La idea es que la salida del modelo sea transformada de una continua a una del tipo categórica, con las clases {1=enfermo, 0=sano}. Así, una predicción será correcta si tanto el max_heart predicho como el real resultan ser outliers de sus respectivas series de datos."
   ]
  },
  {
   "cell_type": "markdown",
   "metadata": {
    "deletable": true,
    "editable": true
   },
   "source": [
    "Escalado y estandarización de los atributos."
   ]
  },
  {
   "cell_type": "code",
   "execution_count": 5,
   "metadata": {
    "collapsed": true,
    "deletable": true,
    "editable": true
   },
   "outputs": [],
   "source": [
    "from sklearn.preprocessing import StandardScaler\n",
    "scaler = StandardScaler()\n",
    "df_scaled = pd.DataFrame(scaler.fit_transform(df), columns=df.columns)"
   ]
  },
  {
   "cell_type": "markdown",
   "metadata": {
    "deletable": true,
    "editable": true
   },
   "source": [
    "Creación de la matriz de datos de entrada $X$ (todos los atributos excepto 'max_heart') y vector de salidas esperadas $Y$ (columna 'max_heart')."
   ]
  },
  {
   "cell_type": "code",
   "execution_count": 6,
   "metadata": {
    "collapsed": true,
    "deletable": true,
    "editable": true
   },
   "outputs": [],
   "source": [
    "X = df.drop('max_heart', 1)\n",
    "Y = df['max_heart']"
   ]
  },
  {
   "cell_type": "markdown",
   "metadata": {
    "deletable": true,
    "editable": true
   },
   "source": [
    "Creación del conjunto de entrenamiento $(X_{train}, Y_{train})$ y el conjunto de pruebas $(X_{test}, Y_{test})$ con el 70% y el 30% de los datos, respectivamente."
   ]
  },
  {
   "cell_type": "code",
   "execution_count": 7,
   "metadata": {
    "collapsed": true,
    "deletable": true,
    "editable": true
   },
   "outputs": [],
   "source": [
    "corte = int(0.7*len(X))\n",
    "\n",
    "Xtrain = X[:corte]\n",
    "Ytrain = Y[:corte]\n",
    "Xtest = X[corte:]\n",
    "Ytest = Y[corte:]"
   ]
  },
  {
   "cell_type": "markdown",
   "metadata": {
    "deletable": true,
    "editable": true
   },
   "source": [
    "Categorización de los vectores $Y_{train}$ e $Y_{test}$."
   ]
  },
  {
   "cell_type": "code",
   "execution_count": 8,
   "metadata": {
    "collapsed": true,
    "deletable": true,
    "editable": true
   },
   "outputs": [],
   "source": [
    "Ytrain_categorical = categorizar(Ytrain)\n",
    "Ytest_categorical = categorizar(Ytest)"
   ]
  },
  {
   "cell_type": "markdown",
   "metadata": {
    "deletable": true,
    "editable": true
   },
   "source": [
    "#### b. Regresión lineal"
   ]
  },
  {
   "cell_type": "markdown",
   "metadata": {
    "deletable": true,
    "editable": true
   },
   "source": [
    "Generar el modelo de regresión lineal usando $(X_{train}, Y_{train})$."
   ]
  },
  {
   "cell_type": "code",
   "execution_count": 9,
   "metadata": {
    "collapsed": false,
    "deletable": true,
    "editable": true
   },
   "outputs": [
    {
     "data": {
      "text/plain": [
       "array([[ -9.96931906e-01],\n",
       "       [ -1.98465621e+00],\n",
       "       [ -2.34084053e+00],\n",
       "       [  1.46459480e-01],\n",
       "       [  3.04850425e-02],\n",
       "       [  4.59663205e+00],\n",
       "       [  5.92905711e-01],\n",
       "       [ -9.92553889e+00],\n",
       "       [ -1.25678660e+00],\n",
       "       [ -8.20844117e+00],\n",
       "       [ -4.79013456e-01],\n",
       "       [  6.87534645e-01],\n",
       "       [ -8.28228065e+00],\n",
       "       [  2.09934680e+02]])"
      ]
     },
     "execution_count": 9,
     "metadata": {},
     "output_type": "execute_result"
    }
   ],
   "source": [
    "import sklearn.linear_model as lm\n",
    "\n",
    "Xtrain.insert(Xtrain.shape[1], 'intercept', np.ones(Xtrain.shape[0]))\n",
    "Xtest.insert(Xtest.shape[1], 'intercept', np.ones(Xtest.shape[0]))\n",
    "linreg = lm.LinearRegression(fit_intercept = False)\n",
    "linreg.fit(Xtrain, Ytrain)\n",
    "linreg.coef_.reshape((-1,1))"
   ]
  },
  {
   "cell_type": "code",
   "execution_count": 10,
   "metadata": {
    "collapsed": false,
    "deletable": true,
    "editable": true
   },
   "outputs": [
    {
     "name": "stdout",
     "output_type": "stream",
     "text": [
      "('Training Score:', 0.9524)\n",
      "('Test Score: ', 0.9506)\n"
     ]
    }
   ],
   "source": [
    "from sklearn.metrics import accuracy_score\n",
    "\n",
    "yhat_train = linreg.predict(Xtrain)\n",
    "yhat_test = linreg.predict(Xtest)\n",
    "\n",
    "yhat_train_categorical = categorizar(yhat_train)\n",
    "yhat_test_categorical = categorizar(yhat_test)\n",
    "\n",
    "\n",
    "print(\"Training Score:\",round((accuracy_score(Ytrain_categorical,yhat_train_categorical)),4))\n",
    "print(\"Test Score: \",round((accuracy_score(Ytest_categorical,yhat_test_categorical)),4))"
   ]
  },
  {
   "cell_type": "markdown",
   "metadata": {
    "deletable": true,
    "editable": true
   },
   "source": [
    "En promedio, un $93\\%$ de las predicciones resultaron correctas. Si se revisan los casos de enfermedad:"
   ]
  },
  {
   "cell_type": "code",
   "execution_count": 11,
   "metadata": {
    "collapsed": false,
    "deletable": true,
    "editable": true
   },
   "outputs": [
    {
     "name": "stdout",
     "output_type": "stream",
     "text": [
      "nº : y_true , y_pred\n",
      "(57, ':', 1, ',', 0)\n",
      "(101, ':', 1, ',', 0)\n",
      "(122, ':', 1, ',', 0)\n",
      "(126, ':', 1, ',', 0)\n",
      "(133, ':', 1, ',', 1)\n",
      "(145, ':', 1, ',', 0)\n"
     ]
    }
   ],
   "source": [
    "print('nº : y_true , y_pred')\n",
    "for i in range(len(Ytrain_categorical)):\n",
    "    if(Ytrain_categorical[i] == 1):\n",
    "        print(i,':', Ytrain_categorical[i],',', yhat_train_categorical[i])"
   ]
  },
  {
   "cell_type": "markdown",
   "metadata": {
    "deletable": true,
    "editable": true
   },
   "source": [
    "Sólo acertó a un caso, siendo el resto falsos negativos. Si se examinan los positivos de enfermedad predichos:"
   ]
  },
  {
   "cell_type": "code",
   "execution_count": 13,
   "metadata": {
    "collapsed": false
   },
   "outputs": [
    {
     "name": "stdout",
     "output_type": "stream",
     "text": [
      "nº : y_true , y_pred\n",
      "(20, ':', 0, ',', 1)\n",
      "(133, ':', 1, ',', 1)\n",
      "(138, ':', 0, ',', 1)\n",
      "(172, ':', 0, ',', 1)\n",
      "(174, ':', 0, ',', 1)\n"
     ]
    }
   ],
   "source": [
    "print('nº : y_true , y_pred')\n",
    "for i in range(len(Ytrain_categorical)):\n",
    "    if(yhat_train_categorical[i] == 1):\n",
    "        print(i,':', Ytrain_categorical[i],',', yhat_train_categorical[i])"
   ]
  },
  {
   "cell_type": "markdown",
   "metadata": {},
   "source": [
    "Siendo 4 los falsos positivos. Del conjunto de pruebas se hace el mismo análisis."
   ]
  },
  {
   "cell_type": "code",
   "execution_count": 12,
   "metadata": {
    "collapsed": false,
    "deletable": true,
    "editable": true
   },
   "outputs": [
    {
     "name": "stdout",
     "output_type": "stream",
     "text": [
      "nº : y_true , y_pred\n",
      "(0, ':', 1, ',', 0)\n",
      "(25, ':', 1, ',', 1)\n",
      "(37, ':', 1, ',', 0)\n",
      "(80, ':', 1, ',', 0)\n"
     ]
    }
   ],
   "source": [
    "print('nº : y_true , y_pred')\n",
    "for i in range(len(Ytest_categorical)):\n",
    "    if(Ytest_categorical[i] == 1):\n",
    "        print(i,':', Ytest_categorical[i],',', yhat_test_categorical[i])"
   ]
  },
  {
   "cell_type": "markdown",
   "metadata": {
    "deletable": true,
    "editable": true
   },
   "source": [
    "Sólo se acerta a un caso, con 3 falsos negativos."
   ]
  },
  {
   "cell_type": "code",
   "execution_count": 14,
   "metadata": {
    "collapsed": false
   },
   "outputs": [
    {
     "name": "stdout",
     "output_type": "stream",
     "text": [
      "nº : y_true , y_pred\n",
      "(2, ':', 0, ',', 1)\n",
      "(25, ':', 1, ',', 1)\n"
     ]
    }
   ],
   "source": [
    "print('nº : y_true , y_pred')\n",
    "for i in range(len(Ytest_categorical)):\n",
    "    if(yhat_test_categorical[i] == 1):\n",
    "        print(i,':', Ytest_categorical[i],',', yhat_test_categorical[i])"
   ]
  },
  {
   "cell_type": "markdown",
   "metadata": {},
   "source": [
    "Habiendo sólo un falso positivo."
   ]
  },
  {
   "cell_type": "markdown",
   "metadata": {},
   "source": [
    "De los 10 casos de enfermedad, sólo se detectó 2 correctamente, existiendo 8 casos de falsos negativos. Además, el modelo de regresión diagnosicó como enfermos erróneamente a 5 pacientes, por lo que hubo 5 falsos positivos. El $93\\%$ de precisión obtenido anteriormente es, por lo tanto, una métrica engañosa.\n"
   ]
  },
  {
   "cell_type": "markdown",
   "metadata": {
    "deletable": true,
    "editable": true
   },
   "source": [
    "### (discutir resultado y proponer otro método)"
   ]
  },
  {
   "cell_type": "markdown",
   "metadata": {
    "collapsed": true,
    "deletable": true,
    "editable": true
   },
   "source": []
  }
 ],
 "metadata": {
  "kernelspec": {
   "display_name": "Python 2",
   "language": "python",
   "name": "python2"
  },
  "language_info": {
   "codemirror_mode": {
    "name": "ipython",
    "version": 2
   },
   "file_extension": ".py",
   "mimetype": "text/x-python",
   "name": "python",
   "nbconvert_exporter": "python",
   "pygments_lexer": "ipython2",
   "version": "2.7.12"
  }
 },
 "nbformat": 4,
 "nbformat_minor": 2
}
