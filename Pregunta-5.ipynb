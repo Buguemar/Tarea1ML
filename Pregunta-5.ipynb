{
 "cells": [
  {
   "cell_type": "markdown",
   "metadata": {},
   "source": [
    "# Tarea 1 Machine Learning - Métodos Lineales para Regresión"
   ]
  },
  {
   "cell_type": "markdown",
   "metadata": {},
   "source": [
    "Juan Pablo Muñoz - 201373522-3 \n",
    "\n",
    "Margarita Bugueño Pérez - 201373510-K"
   ]
  },
  {
   "cell_type": "markdown",
   "metadata": {},
   "source": [
    "## 5. Detectar enfermedades cardíacas"
   ]
  },
  {
   "cell_type": "markdown",
   "metadata": {},
   "source": [
    "El dataset contiene 13 atributos en lugar de las 75 que se consideran en el dataset original.  \n",
    "Estas corresponden a:  \n",
    "\n",
    "-- 1. age       \n",
    "-- 2. sex       \n",
    "-- 3. chest pain type  (4 values)       \n",
    "-- 4. resting blood pressure  \n",
    "-- 5. serum cholestoral in mg/dl      \n",
    "-- 6. fasting blood sugar > 120 mg/dl       \n",
    "-- 7. resting electrocardiographic results  (values 0,1,2) \n",
    "-- 8. maximum heart rate achieved  \n",
    "-- 9. exercise induced angina    \n",
    "-- 10. oldpeak = ST depression induced by exercise relative to rest   \n",
    "-- 11. the slope of the peak exercise ST segment     \n",
    "-- 12. number of major vessels (0-3) colored by flourosopy        \n",
    "-- 13.  thal: 3 = normal; 6 = fixed defect; 7 = reversable defect   "
   ]
  },
  {
   "cell_type": "markdown",
   "metadata": {},
   "source": [
    "Y el último atributo, 'normal', que es 1=sano y 2=enfermo para dicho paciente."
   ]
  },
  {
   "cell_type": "markdown",
   "metadata": {},
   "source": [
    "#### a. Cargar el dataset"
   ]
  },
  {
   "cell_type": "code",
   "execution_count": 1,
   "metadata": {},
   "outputs": [
    {
     "data": {
      "text/html": [
       "<div>\n",
       "<table border=\"1\" class=\"dataframe\">\n",
       "  <thead>\n",
       "    <tr style=\"text-align: right;\">\n",
       "      <th></th>\n",
       "      <th>age</th>\n",
       "      <th>sex</th>\n",
       "      <th>chest_pain</th>\n",
       "      <th>blood_p</th>\n",
       "      <th>serum</th>\n",
       "      <th>blood_s</th>\n",
       "      <th>electro</th>\n",
       "      <th>max_heart</th>\n",
       "      <th>angina</th>\n",
       "      <th>oldpeak</th>\n",
       "      <th>slope</th>\n",
       "      <th>vessel</th>\n",
       "      <th>thal</th>\n",
       "      <th>normal</th>\n",
       "    </tr>\n",
       "  </thead>\n",
       "  <tbody>\n",
       "    <tr>\n",
       "      <th>0</th>\n",
       "      <td>70.0</td>\n",
       "      <td>1.0</td>\n",
       "      <td>4.0</td>\n",
       "      <td>130.0</td>\n",
       "      <td>322.0</td>\n",
       "      <td>0.0</td>\n",
       "      <td>2.0</td>\n",
       "      <td>109.0</td>\n",
       "      <td>0.0</td>\n",
       "      <td>2.4</td>\n",
       "      <td>2.0</td>\n",
       "      <td>3.0</td>\n",
       "      <td>3.0</td>\n",
       "      <td>2</td>\n",
       "    </tr>\n",
       "    <tr>\n",
       "      <th>1</th>\n",
       "      <td>67.0</td>\n",
       "      <td>0.0</td>\n",
       "      <td>3.0</td>\n",
       "      <td>115.0</td>\n",
       "      <td>564.0</td>\n",
       "      <td>0.0</td>\n",
       "      <td>2.0</td>\n",
       "      <td>160.0</td>\n",
       "      <td>0.0</td>\n",
       "      <td>1.6</td>\n",
       "      <td>2.0</td>\n",
       "      <td>0.0</td>\n",
       "      <td>7.0</td>\n",
       "      <td>1</td>\n",
       "    </tr>\n",
       "    <tr>\n",
       "      <th>2</th>\n",
       "      <td>57.0</td>\n",
       "      <td>1.0</td>\n",
       "      <td>2.0</td>\n",
       "      <td>124.0</td>\n",
       "      <td>261.0</td>\n",
       "      <td>0.0</td>\n",
       "      <td>0.0</td>\n",
       "      <td>141.0</td>\n",
       "      <td>0.0</td>\n",
       "      <td>0.3</td>\n",
       "      <td>1.0</td>\n",
       "      <td>0.0</td>\n",
       "      <td>7.0</td>\n",
       "      <td>2</td>\n",
       "    </tr>\n",
       "    <tr>\n",
       "      <th>3</th>\n",
       "      <td>64.0</td>\n",
       "      <td>1.0</td>\n",
       "      <td>4.0</td>\n",
       "      <td>128.0</td>\n",
       "      <td>263.0</td>\n",
       "      <td>0.0</td>\n",
       "      <td>0.0</td>\n",
       "      <td>105.0</td>\n",
       "      <td>1.0</td>\n",
       "      <td>0.2</td>\n",
       "      <td>2.0</td>\n",
       "      <td>1.0</td>\n",
       "      <td>7.0</td>\n",
       "      <td>1</td>\n",
       "    </tr>\n",
       "    <tr>\n",
       "      <th>4</th>\n",
       "      <td>74.0</td>\n",
       "      <td>0.0</td>\n",
       "      <td>2.0</td>\n",
       "      <td>120.0</td>\n",
       "      <td>269.0</td>\n",
       "      <td>0.0</td>\n",
       "      <td>2.0</td>\n",
       "      <td>121.0</td>\n",
       "      <td>1.0</td>\n",
       "      <td>0.2</td>\n",
       "      <td>1.0</td>\n",
       "      <td>1.0</td>\n",
       "      <td>3.0</td>\n",
       "      <td>1</td>\n",
       "    </tr>\n",
       "  </tbody>\n",
       "</table>\n",
       "</div>"
      ],
      "text/plain": [
       "    age  sex  chest_pain  blood_p  serum  blood_s  electro  max_heart  angina  \\\n",
       "0  70.0  1.0         4.0    130.0  322.0      0.0      2.0      109.0     0.0   \n",
       "1  67.0  0.0         3.0    115.0  564.0      0.0      2.0      160.0     0.0   \n",
       "2  57.0  1.0         2.0    124.0  261.0      0.0      0.0      141.0     0.0   \n",
       "3  64.0  1.0         4.0    128.0  263.0      0.0      0.0      105.0     1.0   \n",
       "4  74.0  0.0         2.0    120.0  269.0      0.0      2.0      121.0     1.0   \n",
       "\n",
       "   oldpeak  slope  vessel  thal  normal  \n",
       "0      2.4    2.0     3.0   3.0       2  \n",
       "1      1.6    2.0     0.0   7.0       1  \n",
       "2      0.3    1.0     0.0   7.0       2  \n",
       "3      0.2    2.0     1.0   7.0       1  \n",
       "4      0.2    1.0     1.0   3.0       1  "
      ]
     },
     "execution_count": 1,
     "metadata": {},
     "output_type": "execute_result"
    }
   ],
   "source": [
    "import pandas as pd\n",
    "\n",
    "headers = ['age','sex','chest_pain','blood_p','serum','blood_s','electro','max_heart', \\\n",
    "               'angina','oldpeak','slope','vessel','thal','normal']\n",
    "\n",
    "df = pd.read_csv('heart.dat', header=None, names=headers, sep=' ')\n",
    "\n",
    "df.head()"
   ]
  },
  {
   "cell_type": "markdown",
   "metadata": {},
   "source": [
    "Se observa la serie de datos 'max_heart' con un boxplot para conocer cómo está distribuida y para identificar outliers."
   ]
  },
  {
   "cell_type": "code",
   "execution_count": 2,
   "metadata": {},
   "outputs": [
    {
     "data": {
      "image/png": "[encoded data removed]",
      "text/plain": [
       "<matplotlib.figure.Figure at 0x7fc3682bfa90>"
      ]
     },
     "metadata": {},
     "output_type": "display_data"
    }
   ],
   "source": [
    "import matplotlib.pyplot as plt\n",
    "\n",
    "plt.clf()\n",
    "\n",
    "plt.boxplot(list(df['max_heart']))\n",
    "plt.xlabel('Datos')\n",
    "plt.ylabel('Max. Heart rate achieved')\n",
    "\n",
    "plt.show()"
   ]
  },
  {
   "cell_type": "code",
   "execution_count": null,
   "metadata": {
    "collapsed": true
   },
   "outputs": [],
   "source": [
    "import matplotlib.pyplot as plt\n",
    "\n",
    "plt.clf()\n",
    "\n",
    "plt.boxplot(list(df['max_heart']))\n",
    "plt.xlabel('Datos')\n",
    "plt.ylabel('Max. Heart rate achieved')\n",
    "\n",
    "plt.show()"
   ]
  },
  {
   "cell_type": "markdown",
   "metadata": {},
   "source": [
    "Los outliers son aquellos puntos $x = max\\_heart$ fuera del rango abarcado por los bigotes, lo que es igual a estar fuera del intervalo $[\\bar{x}-2.698\\sigma, \\bar{x}+2.698\\sigma]$ en una distribución normal. Estadísticamente, se espera que el $0.71\\%$ de los pacientes queden fuera del rango y sean outliers. Dada la baja cantidad de datos disponibles, se decide relajar la condición para considerarse outlier a aquellos puntos $x$ fuera del intervalo $[\\bar{x}-2\\sigma, \\bar{x}+2\\sigma]$, con lo que se espera que el $4.56\\%$ de los pacientes observados sean atípicos y posibles enfermos cardíacos. Notar que esta decisión se basa únicamente en el hecho de que $max\\_heart$ sea un atípico de acuerdo al criterio definido, el cual incluye tanto pacientes con un muy alto ritmo cardíaco como a los con uno muy bajo."
   ]
  },
  {
   "cell_type": "code",
   "execution_count": 3,
   "metadata": {
    "collapsed": true
   },
   "outputs": [],
   "source": [
    "def categorizar(vector_continuo):\n",
    "    vector_clasificaciones = []\n",
    "    for x in list(vector_continuo):\n",
    "        if x < np.mean(vector_continuo) - 2*np.std(vector_continuo):\n",
    "            vector_clasificaciones.append(1)\n",
    "        elif x > np.mean(vector_continuo) + 2*np.std(vector_continuo):\n",
    "            vector_clasificaciones.append(1)\n",
    "        else:\n",
    "            vector_clasificaciones.append(0)\n",
    "    return vector_clasificaciones"
   ]
  },
  {
   "cell_type": "code",
   "execution_count": 4,
   "metadata": {
    "scrolled": true
   },
   "outputs": [
    {
     "name": "stdout",
     "output_type": "stream",
     "text": [
      "('Cantidad outliers bajo nuevo criterio:', 10)\n"
     ]
    }
   ],
   "source": [
    "import numpy as np\n",
    "\n",
    "cantidad_outliers = sum(categorizar(df['max_heart']))\n",
    "\n",
    "print('Cantidad outliers bajo nuevo criterio:',cantidad_outliers)"
   ]
  },
  {
   "cell_type": "markdown",
   "metadata": {},
   "source": [
    "De acuerdo al criterio establecido, a partir de los datos, serían 10 pacientes los catalogados como outliers, siendo considerados enfermos (anteriormente sólo existía uno; el único del boxplot anterior). Entonces, se debe aplicar el mismo criterio sobre el modelo de regresión lineal que se va a crear. La idea es que la salida del modelo sea transformada de una continua a una del tipo categórica, con las clases {1=enfermo, 0=sano}. Así, una predicción será correcta si tanto el max_heart predicho como el real resultan ser outliers de sus respectivas series de datos."
   ]
  },
  {
   "cell_type": "markdown",
   "metadata": {},
   "source": [
    "Escalado y estandarización de los atributos."
   ]
  },
  {
   "cell_type": "code",
   "execution_count": 5,
   "metadata": {
    "collapsed": true
   },
   "outputs": [],
   "source": [
    "from sklearn.preprocessing import StandardScaler\n",
    "scaler = StandardScaler()\n",
    "df_scaled = pd.DataFrame(scaler.fit_transform(df), columns=df.columns)"
   ]
  },
  {
   "cell_type": "markdown",
   "metadata": {},
   "source": [
    "Creación de la matriz de datos de entrada $X$ (todos los atributos excepto 'max_heart') y vector de salidas esperadas $Y$ (columna 'max_heart')."
   ]
  },
  {
   "cell_type": "code",
   "execution_count": 6,
   "metadata": {
    "collapsed": true
   },
   "outputs": [],
   "source": [
    "X = df.drop('max_heart', 1)\n",
    "Y = df['max_heart']"
   ]
  },
  {
   "cell_type": "markdown",
   "metadata": {},
   "source": [
    "Creación del conjunto de entrenamiento $(X_{train}, Y_{train})$ y el conjunto de pruebas $(X_{test}, Y_{test})$ con el 70% y el 30% de los datos, respectivamente."
   ]
  },
  {
   "cell_type": "code",
   "execution_count": 7,
   "metadata": {
    "collapsed": true
   },
   "outputs": [],
   "source": [
    "corte = int(0.7*len(X))\n",
    "\n",
    "Xtrain = X[:corte]\n",
    "Ytrain = Y[:corte]\n",
    "Xtest = X[corte:]\n",
    "Ytest = Y[corte:]"
   ]
  },
  {
   "cell_type": "markdown",
   "metadata": {},
   "source": [
    "Categorización de los vectores $Y_{train}$ e $Y_{test}$."
   ]
  },
  {
   "cell_type": "code",
   "execution_count": 8,
   "metadata": {
    "collapsed": true
   },
   "outputs": [],
   "source": [
    "Ytrain_categorical = categorizar(Ytrain)\n",
    "Ytest_categorical = categorizar(Ytest)"
   ]
  },
  {
   "cell_type": "markdown",
   "metadata": {},
   "source": [
    "#### b. Regresión lineal"
   ]
  },
  {
   "cell_type": "markdown",
   "metadata": {},
   "source": [
    "Generar el modelo de regresión lineal usando $(X_{train}, Y_{train})$."
   ]
  },
  {
   "cell_type": "code",
   "execution_count": 9,
   "metadata": {},
   "outputs": [
    {
     "data": {
      "text/plain": [
       "array([[ -9.96931906e-01],\n",
       "       [ -1.98465621e+00],\n",
       "       [ -2.34084053e+00],\n",
       "       [  1.46459480e-01],\n",
       "       [  3.04850425e-02],\n",
       "       [  4.59663205e+00],\n",
       "       [  5.92905711e-01],\n",
       "       [ -9.92553889e+00],\n",
       "       [ -1.25678660e+00],\n",
       "       [ -8.20844117e+00],\n",
       "       [ -4.79013456e-01],\n",
       "       [  6.87534645e-01],\n",
       "       [ -8.28228065e+00],\n",
       "       [  2.09934680e+02]])"
      ]
     },
     "execution_count": 9,
     "metadata": {},
     "output_type": "execute_result"
    }
   ],
   "source": [
    "import sklearn.linear_model as lm\n",
    "\n",
    "Xtrain.insert(Xtrain.shape[1], 'intercept', np.ones(Xtrain.shape[0]))\n",
    "Xtest.insert(Xtest.shape[1], 'intercept', np.ones(Xtest.shape[0]))\n",
    "linreg = lm.LinearRegression(fit_intercept = False)\n",
    "linreg.fit(Xtrain, Ytrain)\n",
    "linreg.coef_.reshape((-1,1))"
   ]
  },
  {
   "cell_type": "code",
   "execution_count": 10,
   "metadata": {},
   "outputs": [
    {
     "name": "stdout",
     "output_type": "stream",
     "text": [
      "('Training Score:', 0.9524)\n",
      "('Test Score: ', 0.9506)\n"
     ]
    }
   ],
   "source": [
    "from sklearn.metrics import accuracy_score\n",
    "\n",
    "yhat_train = linreg.predict(Xtrain)\n",
    "yhat_test = linreg.predict(Xtest)\n",
    "\n",
    "yhat_train_categorical = categorizar(yhat_train)\n",
    "yhat_test_categorical = categorizar(yhat_test)\n",
    "\n",
    "\n",
    "print(\"Training Score:\",round((accuracy_score(Ytrain_categorical,yhat_train_categorical)),4))\n",
    "print(\"Test Score: \",round((accuracy_score(Ytest_categorical,yhat_test_categorical)),4))"
   ]
  },
  {
   "cell_type": "markdown",
   "metadata": {},
   "source": [
    "En promedio, un $93\\%$ de las predicciones resultaron correctas. Si se revisan los casos de enfermedad:"
   ]
  },
  {
   "cell_type": "code",
   "execution_count": 11,
   "metadata": {},
   "outputs": [
    {
     "name": "stdout",
     "output_type": "stream",
     "text": [
      "nº : y_true , y_pred\n",
      "(57, ':', 1, ',', 0)\n",
      "(101, ':', 1, ',', 0)\n",
      "(122, ':', 1, ',', 0)\n",
      "(126, ':', 1, ',', 0)\n",
      "(133, ':', 1, ',', 1)\n",
      "(145, ':', 1, ',', 0)\n"
     ]
    }
   ],
   "source": [
    "print('nº : y_true , y_pred')\n",
    "for i in range(len(Ytrain_categorical)):\n",
    "    if(Ytrain_categorical[i] == 1):\n",
    "        print(i,':', Ytrain_categorical[i],',', yhat_train_categorical[i])"
   ]
  },
  {
   "cell_type": "markdown",
   "metadata": {},
   "source": [
    "Sólo acertó a un caso, siendo el resto falsos negativos. Si se examinan los positivos de enfermedad predichos:"
   ]
  },
  {
   "cell_type": "code",
   "execution_count": 13,
   "metadata": {},
   "outputs": [
    {
     "name": "stdout",
     "output_type": "stream",
     "text": [
      "nº : y_true , y_pred\n",
      "(20, ':', 0, ',', 1)\n",
      "(133, ':', 1, ',', 1)\n",
      "(138, ':', 0, ',', 1)\n",
      "(172, ':', 0, ',', 1)\n",
      "(174, ':', 0, ',', 1)\n"
     ]
    }
   ],
   "source": [
    "print('nº : y_true , y_pred')\n",
    "for i in range(len(Ytrain_categorical)):\n",
    "    if(yhat_train_categorical[i] == 1):\n",
    "        print(i,':', Ytrain_categorical[i],',', yhat_train_categorical[i])"
   ]
  },
  {
   "cell_type": "markdown",
   "metadata": {},
   "source": [
    "Siendo 4 los falsos positivos. Del conjunto de pruebas se hace el mismo análisis."
   ]
  },
  {
   "cell_type": "code",
   "execution_count": 12,
   "metadata": {},
   "outputs": [
    {
     "name": "stdout",
     "output_type": "stream",
     "text": [
      "nº : y_true , y_pred\n",
      "(0, ':', 1, ',', 0)\n",
      "(25, ':', 1, ',', 1)\n",
      "(37, ':', 1, ',', 0)\n",
      "(80, ':', 1, ',', 0)\n"
     ]
    }
   ],
   "source": [
    "print('nº : y_true , y_pred')\n",
    "for i in range(len(Ytest_categorical)):\n",
    "    if(Ytest_categorical[i] == 1):\n",
    "        print(i,':', Ytest_categorical[i],',', yhat_test_categorical[i])"
   ]
  },
  {
   "cell_type": "markdown",
   "metadata": {},
   "source": [
    "Sólo se acerta a un caso, con 3 falsos negativos."
   ]
  },
  {
   "cell_type": "code",
   "execution_count": 14,
   "metadata": {},
   "outputs": [
    {
     "name": "stdout",
     "output_type": "stream",
     "text": [
      "nº : y_true , y_pred\n",
      "(2, ':', 0, ',', 1)\n",
      "(25, ':', 1, ',', 1)\n"
     ]
    }
   ],
   "source": [
    "print('nº : y_true , y_pred')\n",
    "for i in range(len(Ytest_categorical)):\n",
    "    if(yhat_test_categorical[i] == 1):\n",
    "        print(i,':', Ytest_categorical[i],',', yhat_test_categorical[i])"
   ]
  },
  {
   "cell_type": "markdown",
   "metadata": {},
   "source": [
    "Habiendo sólo un falso positivo."
   ]
  },
  {
   "cell_type": "markdown",
   "metadata": {},
   "source": [
    "De los 10 casos de enfermedad, sólo se detectó 2 correctamente, existiendo 8 casos de falsos negativos. Además, el modelo de regresión diagnosicó como enfermos erróneamente a 5 pacientes, por lo que hubo 5 falsos positivos. El $93\\%$ de precisión obtenido anteriormente es, por lo tanto, una métrica engañosa.\n"
   ]
  },
  {
   "cell_type": "markdown",
   "metadata": {},
   "source": [
    "### (discutir resultado y proponer otro método)"
   ]
  },
  {
   "cell_type": "code",
   "execution_count": 2,
   "metadata": {},
   "outputs": [
    {
     "data": {
      "text/html": [
       "<div>\n",
       "<style>\n",
       "    .dataframe thead tr:only-child th {\n",
       "        text-align: right;\n",
       "    }\n",
       "\n",
       "    .dataframe thead th {\n",
       "        text-align: left;\n",
       "    }\n",
       "\n",
       "    .dataframe tbody tr th {\n",
       "        vertical-align: top;\n",
       "    }\n",
       "</style>\n",
       "<table border=\"1\" class=\"dataframe\">\n",
       "  <thead>\n",
       "    <tr style=\"text-align: right;\">\n",
       "      <th></th>\n",
       "      <th>age</th>\n",
       "      <th>sex</th>\n",
       "      <th>chest_pain</th>\n",
       "      <th>blood_p</th>\n",
       "      <th>serum</th>\n",
       "      <th>blood_s</th>\n",
       "      <th>electro</th>\n",
       "      <th>max_heart</th>\n",
       "      <th>angina</th>\n",
       "      <th>oldpeak</th>\n",
       "      <th>slope</th>\n",
       "      <th>vessel</th>\n",
       "      <th>thal</th>\n",
       "      <th>normal</th>\n",
       "    </tr>\n",
       "  </thead>\n",
       "  <tbody>\n",
       "    <tr>\n",
       "      <th>0</th>\n",
       "      <td>70.0</td>\n",
       "      <td>1.0</td>\n",
       "      <td>4.0</td>\n",
       "      <td>130.0</td>\n",
       "      <td>322.0</td>\n",
       "      <td>0.0</td>\n",
       "      <td>2.0</td>\n",
       "      <td>109.0</td>\n",
       "      <td>0.0</td>\n",
       "      <td>2.4</td>\n",
       "      <td>2.0</td>\n",
       "      <td>3.0</td>\n",
       "      <td>3.0</td>\n",
       "      <td>2</td>\n",
       "    </tr>\n",
       "    <tr>\n",
       "      <th>1</th>\n",
       "      <td>67.0</td>\n",
       "      <td>0.0</td>\n",
       "      <td>3.0</td>\n",
       "      <td>115.0</td>\n",
       "      <td>564.0</td>\n",
       "      <td>0.0</td>\n",
       "      <td>2.0</td>\n",
       "      <td>160.0</td>\n",
       "      <td>0.0</td>\n",
       "      <td>1.6</td>\n",
       "      <td>2.0</td>\n",
       "      <td>0.0</td>\n",
       "      <td>7.0</td>\n",
       "      <td>1</td>\n",
       "    </tr>\n",
       "    <tr>\n",
       "      <th>2</th>\n",
       "      <td>57.0</td>\n",
       "      <td>1.0</td>\n",
       "      <td>2.0</td>\n",
       "      <td>124.0</td>\n",
       "      <td>261.0</td>\n",
       "      <td>0.0</td>\n",
       "      <td>0.0</td>\n",
       "      <td>141.0</td>\n",
       "      <td>0.0</td>\n",
       "      <td>0.3</td>\n",
       "      <td>1.0</td>\n",
       "      <td>0.0</td>\n",
       "      <td>7.0</td>\n",
       "      <td>2</td>\n",
       "    </tr>\n",
       "    <tr>\n",
       "      <th>3</th>\n",
       "      <td>64.0</td>\n",
       "      <td>1.0</td>\n",
       "      <td>4.0</td>\n",
       "      <td>128.0</td>\n",
       "      <td>263.0</td>\n",
       "      <td>0.0</td>\n",
       "      <td>0.0</td>\n",
       "      <td>105.0</td>\n",
       "      <td>1.0</td>\n",
       "      <td>0.2</td>\n",
       "      <td>2.0</td>\n",
       "      <td>1.0</td>\n",
       "      <td>7.0</td>\n",
       "      <td>1</td>\n",
       "    </tr>\n",
       "    <tr>\n",
       "      <th>4</th>\n",
       "      <td>74.0</td>\n",
       "      <td>0.0</td>\n",
       "      <td>2.0</td>\n",
       "      <td>120.0</td>\n",
       "      <td>269.0</td>\n",
       "      <td>0.0</td>\n",
       "      <td>2.0</td>\n",
       "      <td>121.0</td>\n",
       "      <td>1.0</td>\n",
       "      <td>0.2</td>\n",
       "      <td>1.0</td>\n",
       "      <td>1.0</td>\n",
       "      <td>3.0</td>\n",
       "      <td>1</td>\n",
       "    </tr>\n",
       "  </tbody>\n",
       "</table>\n",
       "</div>"
      ],
      "text/plain": [
       "    age  sex  chest_pain  blood_p  serum  blood_s  electro  max_heart  angina  \\\n",
       "0  70.0  1.0         4.0    130.0  322.0      0.0      2.0      109.0     0.0   \n",
       "1  67.0  0.0         3.0    115.0  564.0      0.0      2.0      160.0     0.0   \n",
       "2  57.0  1.0         2.0    124.0  261.0      0.0      0.0      141.0     0.0   \n",
       "3  64.0  1.0         4.0    128.0  263.0      0.0      0.0      105.0     1.0   \n",
       "4  74.0  0.0         2.0    120.0  269.0      0.0      2.0      121.0     1.0   \n",
       "\n",
       "   oldpeak  slope  vessel  thal  normal  \n",
       "0      2.4    2.0     3.0   3.0       2  \n",
       "1      1.6    2.0     0.0   7.0       1  \n",
       "2      0.3    1.0     0.0   7.0       2  \n",
       "3      0.2    2.0     1.0   7.0       1  \n",
       "4      0.2    1.0     1.0   3.0       1  "
      ]
     },
     "execution_count": 2,
     "metadata": {},
     "output_type": "execute_result"
    }
   ],
   "source": [
    "import pandas as pd\n",
    "import numpy as np\n",
    "from matplotlib import pyplot as plt\n",
    "import seaborn as sns\n",
    "\n",
    "headers = ['age','sex','chest_pain','blood_p','serum','blood_s','electro','max_heart', \\\n",
    "               'angina','oldpeak','slope','vessel','thal','normal']\n",
    "df = pd.read_csv('heart.dat', header=None, names=headers, sep=' ')\n",
    "df.head()"
   ]
  },
  {
   "cell_type": "code",
   "execution_count": 3,
   "metadata": {},
   "outputs": [
    {
     "data": {
      "text/html": [
       "<div>\n",
       "<style>\n",
       "    .dataframe thead tr:only-child th {\n",
       "        text-align: right;\n",
       "    }\n",
       "\n",
       "    .dataframe thead th {\n",
       "        text-align: left;\n",
       "    }\n",
       "\n",
       "    .dataframe tbody tr th {\n",
       "        vertical-align: top;\n",
       "    }\n",
       "</style>\n",
       "<table border=\"1\" class=\"dataframe\">\n",
       "  <thead>\n",
       "    <tr style=\"text-align: right;\">\n",
       "      <th></th>\n",
       "      <th>age</th>\n",
       "      <th>sex</th>\n",
       "      <th>chest_pain</th>\n",
       "      <th>blood_p</th>\n",
       "      <th>serum</th>\n",
       "      <th>blood_s</th>\n",
       "      <th>electro</th>\n",
       "      <th>max_heart</th>\n",
       "      <th>angina</th>\n",
       "      <th>oldpeak</th>\n",
       "      <th>slope</th>\n",
       "      <th>vessel</th>\n",
       "      <th>thal</th>\n",
       "      <th>normal</th>\n",
       "    </tr>\n",
       "  </thead>\n",
       "  <tbody>\n",
       "    <tr>\n",
       "      <th>count</th>\n",
       "      <td>270.000000</td>\n",
       "      <td>270.000000</td>\n",
       "      <td>270.000000</td>\n",
       "      <td>270.000000</td>\n",
       "      <td>270.000000</td>\n",
       "      <td>270.000000</td>\n",
       "      <td>270.000000</td>\n",
       "      <td>270.000000</td>\n",
       "      <td>270.000000</td>\n",
       "      <td>270.00000</td>\n",
       "      <td>270.000000</td>\n",
       "      <td>270.000000</td>\n",
       "      <td>270.000000</td>\n",
       "      <td>270.000000</td>\n",
       "    </tr>\n",
       "    <tr>\n",
       "      <th>mean</th>\n",
       "      <td>54.433333</td>\n",
       "      <td>0.677778</td>\n",
       "      <td>3.174074</td>\n",
       "      <td>131.344444</td>\n",
       "      <td>249.659259</td>\n",
       "      <td>0.148148</td>\n",
       "      <td>1.022222</td>\n",
       "      <td>149.677778</td>\n",
       "      <td>0.329630</td>\n",
       "      <td>1.05000</td>\n",
       "      <td>1.585185</td>\n",
       "      <td>0.670370</td>\n",
       "      <td>4.696296</td>\n",
       "      <td>1.444444</td>\n",
       "    </tr>\n",
       "    <tr>\n",
       "      <th>std</th>\n",
       "      <td>9.109067</td>\n",
       "      <td>0.468195</td>\n",
       "      <td>0.950090</td>\n",
       "      <td>17.861608</td>\n",
       "      <td>51.686237</td>\n",
       "      <td>0.355906</td>\n",
       "      <td>0.997891</td>\n",
       "      <td>23.165717</td>\n",
       "      <td>0.470952</td>\n",
       "      <td>1.14521</td>\n",
       "      <td>0.614390</td>\n",
       "      <td>0.943896</td>\n",
       "      <td>1.940659</td>\n",
       "      <td>0.497827</td>\n",
       "    </tr>\n",
       "    <tr>\n",
       "      <th>min</th>\n",
       "      <td>29.000000</td>\n",
       "      <td>0.000000</td>\n",
       "      <td>1.000000</td>\n",
       "      <td>94.000000</td>\n",
       "      <td>126.000000</td>\n",
       "      <td>0.000000</td>\n",
       "      <td>0.000000</td>\n",
       "      <td>71.000000</td>\n",
       "      <td>0.000000</td>\n",
       "      <td>0.00000</td>\n",
       "      <td>1.000000</td>\n",
       "      <td>0.000000</td>\n",
       "      <td>3.000000</td>\n",
       "      <td>1.000000</td>\n",
       "    </tr>\n",
       "    <tr>\n",
       "      <th>25%</th>\n",
       "      <td>48.000000</td>\n",
       "      <td>0.000000</td>\n",
       "      <td>3.000000</td>\n",
       "      <td>120.000000</td>\n",
       "      <td>213.000000</td>\n",
       "      <td>0.000000</td>\n",
       "      <td>0.000000</td>\n",
       "      <td>133.000000</td>\n",
       "      <td>0.000000</td>\n",
       "      <td>0.00000</td>\n",
       "      <td>1.000000</td>\n",
       "      <td>0.000000</td>\n",
       "      <td>3.000000</td>\n",
       "      <td>1.000000</td>\n",
       "    </tr>\n",
       "    <tr>\n",
       "      <th>50%</th>\n",
       "      <td>55.000000</td>\n",
       "      <td>1.000000</td>\n",
       "      <td>3.000000</td>\n",
       "      <td>130.000000</td>\n",
       "      <td>245.000000</td>\n",
       "      <td>0.000000</td>\n",
       "      <td>2.000000</td>\n",
       "      <td>153.500000</td>\n",
       "      <td>0.000000</td>\n",
       "      <td>0.80000</td>\n",
       "      <td>2.000000</td>\n",
       "      <td>0.000000</td>\n",
       "      <td>3.000000</td>\n",
       "      <td>1.000000</td>\n",
       "    </tr>\n",
       "    <tr>\n",
       "      <th>75%</th>\n",
       "      <td>61.000000</td>\n",
       "      <td>1.000000</td>\n",
       "      <td>4.000000</td>\n",
       "      <td>140.000000</td>\n",
       "      <td>280.000000</td>\n",
       "      <td>0.000000</td>\n",
       "      <td>2.000000</td>\n",
       "      <td>166.000000</td>\n",
       "      <td>1.000000</td>\n",
       "      <td>1.60000</td>\n",
       "      <td>2.000000</td>\n",
       "      <td>1.000000</td>\n",
       "      <td>7.000000</td>\n",
       "      <td>2.000000</td>\n",
       "    </tr>\n",
       "    <tr>\n",
       "      <th>max</th>\n",
       "      <td>77.000000</td>\n",
       "      <td>1.000000</td>\n",
       "      <td>4.000000</td>\n",
       "      <td>200.000000</td>\n",
       "      <td>564.000000</td>\n",
       "      <td>1.000000</td>\n",
       "      <td>2.000000</td>\n",
       "      <td>202.000000</td>\n",
       "      <td>1.000000</td>\n",
       "      <td>6.20000</td>\n",
       "      <td>3.000000</td>\n",
       "      <td>3.000000</td>\n",
       "      <td>7.000000</td>\n",
       "      <td>2.000000</td>\n",
       "    </tr>\n",
       "  </tbody>\n",
       "</table>\n",
       "</div>"
      ],
      "text/plain": [
       "              age         sex  chest_pain     blood_p       serum     blood_s  \\\n",
       "count  270.000000  270.000000  270.000000  270.000000  270.000000  270.000000   \n",
       "mean    54.433333    0.677778    3.174074  131.344444  249.659259    0.148148   \n",
       "std      9.109067    0.468195    0.950090   17.861608   51.686237    0.355906   \n",
       "min     29.000000    0.000000    1.000000   94.000000  126.000000    0.000000   \n",
       "25%     48.000000    0.000000    3.000000  120.000000  213.000000    0.000000   \n",
       "50%     55.000000    1.000000    3.000000  130.000000  245.000000    0.000000   \n",
       "75%     61.000000    1.000000    4.000000  140.000000  280.000000    0.000000   \n",
       "max     77.000000    1.000000    4.000000  200.000000  564.000000    1.000000   \n",
       "\n",
       "          electro   max_heart      angina    oldpeak       slope      vessel  \\\n",
       "count  270.000000  270.000000  270.000000  270.00000  270.000000  270.000000   \n",
       "mean     1.022222  149.677778    0.329630    1.05000    1.585185    0.670370   \n",
       "std      0.997891   23.165717    0.470952    1.14521    0.614390    0.943896   \n",
       "min      0.000000   71.000000    0.000000    0.00000    1.000000    0.000000   \n",
       "25%      0.000000  133.000000    0.000000    0.00000    1.000000    0.000000   \n",
       "50%      2.000000  153.500000    0.000000    0.80000    2.000000    0.000000   \n",
       "75%      2.000000  166.000000    1.000000    1.60000    2.000000    1.000000   \n",
       "max      2.000000  202.000000    1.000000    6.20000    3.000000    3.000000   \n",
       "\n",
       "             thal      normal  \n",
       "count  270.000000  270.000000  \n",
       "mean     4.696296    1.444444  \n",
       "std      1.940659    0.497827  \n",
       "min      3.000000    1.000000  \n",
       "25%      3.000000    1.000000  \n",
       "50%      3.000000    1.000000  \n",
       "75%      7.000000    2.000000  \n",
       "max      7.000000    2.000000  "
      ]
     },
     "execution_count": 3,
     "metadata": {},
     "output_type": "execute_result"
    }
   ],
   "source": [
    "df.describe()"
   ]
  },
  {
   "cell_type": "code",
   "execution_count": 16,
   "metadata": {},
   "outputs": [
    {
     "name": "stdout",
     "output_type": "stream",
     "text": [
      "120\n",
      "150\n"
     ]
    }
   ],
   "source": [
    "enfermos=[]\n",
    "no_enfermos=[]\n",
    "index_enfermos=[]\n",
    "index_no_enfermos=[]\n",
    "for i, reg in enumerate(df['normal']):\n",
    "    if reg==2:\n",
    "        index_enfermos.append(i)\n",
    "        enfermos.append(df['max_heart'][i])\n",
    "    else: \n",
    "        index_no_enfermos.append(i)\n",
    "        no_enfermos.append(df['max_heart'][i])\n",
    "\n",
    "print (len(enfermos))\n",
    "print (len(no_enfermos))"
   ]
  },
  {
   "cell_type": "code",
   "execution_count": 19,
   "metadata": {},
   "outputs": [
    {
     "data": {
      "image/png": "[encoded data removed]",
      "text/plain": [
       "<matplotlib.figure.Figure at 0x7fec719db630>"
      ]
     },
     "metadata": {},
     "output_type": "display_data"
    }
   ],
   "source": [
    "import matplotlib.pyplot as plt\n",
    "\n",
    "plt.clf()\n",
    "\n",
    "plt.boxplot([enfermos, no_enfermos])\n",
    "plt.xlabel('Datos')\n",
    "plt.ylabel('Max. Heart rate achieved')\n",
    "plt.show()"
   ]
  },
  {
   "cell_type": "code",
   "execution_count": 22,
   "metadata": {},
   "outputs": [
    {
     "data": {
      "image/png": "[encoded data removed]",
      "text/plain": [
       "<matplotlib.figure.Figure at 0x7fec7215f550>"
      ]
     },
     "execution_count": 22,
     "metadata": {},
     "output_type": "execute_result"
    }
   ],
   "source": [
    "import statsmodels.api as sm\n",
    "import numpy as np\n",
    "import pylab\n",
    "pylab.clf\n",
    "sm.qqplot(np.asarray(enfermos), line='s')"
   ]
  },
  {
   "cell_type": "code",
   "execution_count": 23,
   "metadata": {},
   "outputs": [
    {
     "data": {
      "image/png": "[encoded data removed]",
      "text/plain": [
       "<matplotlib.figure.Figure at 0x7fec71e2ccc0>"
      ]
     },
     "execution_count": 23,
     "metadata": {},
     "output_type": "execute_result"
    }
   ],
   "source": [
    "pylab.clf\n",
    "sm.qqplot(np.asarray(no_enfermos), line='s')"
   ]
  },
  {
   "cell_type": "code",
   "execution_count": 53,
   "metadata": {},
   "outputs": [
    {
     "data": {
      "image/png": "[encoded data removed]",
      "text/plain": [
       "<matplotlib.figure.Figure at 0x7fec5f95a128>"
      ]
     },
     "metadata": {},
     "output_type": "display_data"
    }
   ],
   "source": [
    "from scipy.stats import norm\n",
    "plt.clf\n",
    "plt.figure(figsize=(9,5))\n",
    "enfermos.sort()\n",
    "e_mean = np.mean(enfermos)\n",
    "e_std = np.std(enfermos)\n",
    "pdf = norm.pdf(enfermos, e_mean, e_std)\n",
    "plt.plot(enfermos, pdf) # including h here is crucial\n",
    "#plt.show()\n",
    "\n",
    "no_enfermos.sort()\n",
    "ne_mean = np.mean(no_enfermos)\n",
    "ne_std = np.std(no_enfermos)\n",
    "ne_pdf = norm.pdf(no_enfermos, ne_mean, ne_std)\n",
    "plt.plot(no_enfermos, ne_pdf) # including h here is crucial\n",
    "ne_title = \"Fit results: mu_e = %.2f,  std_e = %.2f vs mu_ne = %.2f,  std_ne = %.2f\" % (e_mean, e_std, ne_mean, ne_std)\n",
    "plt.title(ne_title)\n",
    "plt.show()\n"
   ]
  },
  {
   "cell_type": "markdown",
   "metadata": {},
   "source": [
    "Se obtiene entonces que las características de los datos son:  \n",
    "\n",
    "\\begin{align}\n",
    "    \\textbf{Conjunto de enfermos}: \\mu_{e}= 138.86,  \\sigma_{e}=23.03\n",
    "\\end{align}\n",
    "\\begin{align}\n",
    "    \\textbf{Conjunto de no enfermos}: \\mu_{ne}= 158.33,  \\sigma_{ne}=19.22 \n",
    "\\end{align}"
   ]
  },
  {
   "cell_type": "code",
   "execution_count": 54,
   "metadata": {
    "collapsed": true
   },
   "outputs": [],
   "source": [
    "from sklearn.preprocessing import StandardScaler\n",
    "scaler = StandardScaler()\n",
    "df_scaled = pd.DataFrame(scaler.fit_transform(df), columns=df.columns)\n",
    "\n"
   ]
  },
  {
   "cell_type": "code",
   "execution_count": 63,
   "metadata": {},
   "outputs": [
    {
     "name": "stdout",
     "output_type": "stream",
     "text": [
      "        age       sex  chest_pain   blood_p     serum   blood_s   electro  \\\n",
      "0  1.712094  0.689500    0.870928 -0.075410  1.402212 -0.417029  0.981664   \n",
      "1  1.382140 -1.450327   -0.183559 -0.916759  6.093004 -0.417029  0.981664   \n",
      "2  0.282294  0.689500   -1.238045 -0.411950  0.219823 -0.417029 -1.026285   \n",
      "3  1.052186  0.689500    0.870928 -0.187590  0.258589 -0.417029 -1.026285   \n",
      "4  2.152032 -1.450327   -1.238045 -0.636310  0.374890 -0.417029  0.981664   \n",
      "\n",
      "     angina   oldpeak     slope    vessel      thal    normal  intercept  \n",
      "0 -0.701222  1.181012  0.676419  2.472682 -0.875706  1.118034        1.0  \n",
      "1 -0.701222  0.481153  0.676419 -0.711535  1.189277 -0.894427        1.0  \n",
      "2 -0.701222 -0.656118 -0.954234 -0.711535  1.189277  1.118034        1.0  \n",
      "3  1.426081 -0.743600  0.676419  0.349871  1.189277 -0.894427        1.0  \n",
      "4  1.426081 -0.743600 -0.954234  0.349871 -0.875706 -0.894427        1.0  \n"
     ]
    },
    {
     "data": {
      "text/plain": [
       "(270, 14)"
      ]
     },
     "execution_count": 63,
     "metadata": {},
     "output_type": "execute_result"
    }
   ],
   "source": [
    "X = df_scaled.drop('max_heart', 1)\n",
    "N = X.shape[0]\n",
    "X.insert(X.shape[1], 'intercept', np.ones(N))\n",
    "Y = df_scaled['max_heart']\n",
    "print (X.head())\n",
    "X.shape\n"
   ]
  },
  {
   "cell_type": "code",
   "execution_count": 79,
   "metadata": {},
   "outputs": [
    {
     "data": {
      "image/png": "[encoded data removed]",
      "text/plain": [
       "<matplotlib.figure.Figure at 0x7fec5c8c3dd8>"
      ]
     },
     "metadata": {},
     "output_type": "display_data"
    }
   ],
   "source": [
    "plt.figure(figsize=(14,10))\n",
    "sns.heatmap(X.corr(), vmax=.8, linewidths=0.01,\n",
    "            square=True,annot=True,cmap='viridis',linecolor=\"white\")\n",
    "sns.set(font_scale=1)\n",
    "plt.title('Correlación entre características');\n",
    "plt.show()"
   ]
  },
  {
   "cell_type": "code",
   "execution_count": 72,
   "metadata": {},
   "outputs": [],
   "source": [
    "import sklearn.linear_model as lm\n",
    "#mascara estatica con el 70% de los datos\n",
    "mascara = np.zeros(len(X))\n",
    "limit = int(len(X)*0.7)\n",
    "mascara[:limit] = 1\n",
    "istrain = mascara== 1\n",
    "Xtrain = X[istrain]\n",
    "Ytrain = Y[istrain]\n",
    "Xtest = X[np.logical_not(istrain)]\n",
    "Ytest = Y[np.logical_not(istrain)]\n",
    "linreg_heart = lm.LinearRegression(fit_intercept = False)\n",
    "linreg_heart.fit(Xtrain, Ytrain)\n",
    "beta= linreg_heart.coef_.reshape(-1,1)"
   ]
  },
  {
   "cell_type": "code",
   "execution_count": 73,
   "metadata": {},
   "outputs": [
    {
     "name": "stdout",
     "output_type": "stream",
     "text": [
      "(14, 1)\n"
     ]
    },
    {
     "data": {
      "text/plain": [
       "array([[-0.39200682],\n",
       "       [-0.0401113 ],\n",
       "       [-0.09600434],\n",
       "       [ 0.11292557],\n",
       "       [ 0.06801677],\n",
       "       [ 0.07062035],\n",
       "       [ 0.02554013],\n",
       "       [-0.20178302],\n",
       "       [-0.06212993],\n",
       "       [-0.21770027],\n",
       "       [-0.01951759],\n",
       "       [ 0.05759676],\n",
       "       [-0.1779846 ],\n",
       "       [-0.05660334]])"
      ]
     },
     "execution_count": 73,
     "metadata": {},
     "output_type": "execute_result"
    }
   ],
   "source": [
    "print (beta.shape)\n",
    "beta"
   ]
  },
  {
   "cell_type": "code",
   "execution_count": 78,
   "metadata": {},
   "outputs": [
    {
     "name": "stdout",
     "output_type": "stream",
     "text": [
      "(189, 14)\n"
     ]
    },
    {
     "data": {
      "text/plain": [
       "array([ -1.13337551e+00,  -1.01683380e-02,   1.10095870e-01,\n",
       "        -8.07546079e-01,  -7.05812339e-01,  -2.20622004e-01,\n",
       "        -5.17540565e-01,  -1.09888253e+00,  -4.72246297e-01,\n",
       "        -4.75025626e-01,  -1.52204132e-01,   1.44474520e-01,\n",
       "         9.43257210e-01,  -5.73758147e-01,   3.60289034e-01,\n",
       "        -1.02021954e+00,  -3.58057801e-01,  -9.36392359e-01,\n",
       "        -8.20310268e-01,   8.33029716e-01,  -1.49045424e+00,\n",
       "         4.56013411e-01,   3.44937685e-01,   4.37737141e-01,\n",
       "         4.67202324e-01,   7.83871805e-01,   5.52554633e-02,\n",
       "         6.47097886e-01,  -5.95134989e-01,  -1.07400298e-01,\n",
       "        -3.37854029e-01,  -2.48597649e-02,   1.12656035e+00,\n",
       "        -1.05799604e+00,  -5.09890043e-01,   1.22765256e-01,\n",
       "        -7.20334159e-01,   3.17598941e-01,   8.42351523e-01,\n",
       "         5.38412059e-01,   7.84133889e-01,  -3.51171584e-02,\n",
       "         3.75002387e-01,   9.27583686e-01,  -4.31313741e-01,\n",
       "         5.06802046e-01,   1.11359698e-02,   2.22999851e-01,\n",
       "        -9.29512827e-01,  -6.38145378e-01,  -1.93963235e-01,\n",
       "         7.31524034e-01,   4.98222146e-01,   1.65692772e-01,\n",
       "         6.34945281e-01,   9.17198023e-01,  -1.35338625e+00,\n",
       "         2.84933586e-01,  -6.78772069e-01,  -4.88660273e-01,\n",
       "         5.37259221e-01,  -4.85006629e-01,   7.53428527e-01,\n",
       "         5.11454734e-01,  -1.91422798e-01,  -7.07635117e-01,\n",
       "         1.45243578e-01,   4.11300363e-01,   4.55670497e-01,\n",
       "         2.12302168e-01,  -1.27581553e+00,  -1.15577133e-01,\n",
       "         3.80378043e-02,  -8.41104921e-01,  -4.03982986e-01,\n",
       "        -1.76509774e-01,  -4.12018977e-01,   8.54552758e-01,\n",
       "         5.48082657e-01,   3.06989028e-01,  -5.20942209e-01,\n",
       "        -1.07152139e-01,  -3.64086865e-01,   5.17875815e-01,\n",
       "        -7.81172245e-01,   1.20958032e+00,   3.55615365e-01,\n",
       "        -3.34899941e-02,   1.21331501e+00,  -7.83408757e-02,\n",
       "        -1.01222803e-01,  -1.01376080e-01,  -8.13389069e-01,\n",
       "        -9.80529168e-01,  -1.45477493e-02,  -6.42109415e-01,\n",
       "        -5.21583682e-01,  -3.32947479e-01,   3.26411818e-01,\n",
       "         6.45749889e-01,   2.63582561e-01,  -1.09247633e+00,\n",
       "         6.42481984e-01,  -8.79114883e-04,  -7.06502369e-01,\n",
       "        -1.78409037e-03,  -5.29798676e-01,  -4.45312972e-01,\n",
       "        -6.21669729e-01,   4.04700310e-01,  -5.24631890e-01,\n",
       "         9.32533603e-01,   8.61304288e-02,   8.04749987e-01,\n",
       "         1.03186274e+00,   5.17931545e-01,   3.64837308e-01,\n",
       "        -5.78151527e-01,  -5.68078275e-01,  -9.42075379e-01,\n",
       "        -2.77342450e-01,  -9.93694258e-01,  -7.51764758e-01,\n",
       "         3.71676950e-01,  -2.90680570e-01,   6.07796231e-01,\n",
       "        -1.23258258e+00,   2.46988198e-01,   5.01263717e-01,\n",
       "        -6.38608670e-01,  -1.38217352e+00,  -1.12776888e+00,\n",
       "         8.65102519e-01,  -1.77017022e+00,   6.03466743e-01,\n",
       "        -3.36275215e-01,   9.68313447e-02,  -7.81488489e-01,\n",
       "         1.29983285e+00,  -1.67657085e-01,  -7.93041780e-01,\n",
       "         2.30095630e-01,  -1.69233562e-02,   1.93846418e-01,\n",
       "         7.46029215e-01,  -8.16642764e-01,  -1.17025966e-01,\n",
       "        -3.97393823e-01,  -1.80134826e-01,   5.95334215e-01,\n",
       "         8.63742303e-01,   1.29384540e-01,   4.37442333e-01,\n",
       "        -4.64544558e-01,   6.64455524e-01,   7.30250939e-01,\n",
       "        -1.39012173e+00,   1.02161298e+00,   1.06970984e-01,\n",
       "        -7.60981665e-01,  -8.85937344e-03,  -1.04281785e+00,\n",
       "         4.91204229e-01,  -1.03393903e+00,   7.31128417e-01,\n",
       "        -4.29625347e-02,   5.04194716e-01,  -1.34632666e-01,\n",
       "         7.82708337e-02,  -3.21582855e-01,   1.08686486e-02,\n",
       "        -8.74659286e-01,  -1.55138282e+00,  -6.00508941e-01,\n",
       "         1.36765191e+00,  -5.14184319e-01,  -7.41933241e-01,\n",
       "        -4.50399004e-02,  -7.18614838e-01,   5.12194212e-01,\n",
       "         4.22374588e-01,  -5.66326588e-01,   4.59036447e-01,\n",
       "         4.25337483e-01,   6.43031391e-01,   8.53234334e-01,\n",
       "        -9.81354074e-01,   4.90641643e-01,  -5.88032892e-02])"
      ]
     },
     "execution_count": 78,
     "metadata": {},
     "output_type": "execute_result"
    }
   ],
   "source": [
    "Max_heart_est= linreg_heart.predict(Xtrain)\n",
    "print (Xtrain.shape)\n",
    "Max_heart_est"
   ]
  },
  {
   "cell_type": "markdown",
   "metadata": {},
   "source": [
    "### Definición de umbral para clasificación"
   ]
  },
  {
   "cell_type": "markdown",
   "metadata": {},
   "source": [
    "Dado que blaa... haremos lo de las desviaciones con distribución normal ...explicar :)"
   ]
  },
  {
   "cell_type": "code",
   "execution_count": null,
   "metadata": {
    "collapsed": true
   },
   "outputs": [],
   "source": []
  },
  {
   "cell_type": "code",
   "execution_count": null,
   "metadata": {
    "collapsed": true
   },
   "outputs": [],
   "source": [
    "from sklearn.metrics import accuracy_score\n",
    "\n",
    "yhat_train = linreg.predict(Xtrain)\n",
    "yhat_test = linreg.predict(Xtest)\n",
    "\n",
    "yhat_train_categorical = categorizar(yhat_train)\n",
    "yhat_test_categorical = categorizar(yhat_test)\n",
    "\n",
    "\n",
    "print(\"Training Score:\",round((accuracy_score(Ytrain_categorical,yhat_train_categorical)),4))\n",
    "print(\"Test Score: \",round((accuracy_score(Ytest_categorical,yhat_test_categorical)),4))"
   ]
  }
 ],
 "metadata": {
  "kernelspec": {
   "display_name": "Python 3",
   "language": "python",
   "name": "python3"
  },
  "language_info": {
   "codemirror_mode": {
    "name": "ipython",
    "version": 3
   },
   "file_extension": ".py",
   "mimetype": "text/x-python",
   "name": "python",
   "nbconvert_exporter": "python",
   "pygments_lexer": "ipython3",
   "version": "3.6.2"
  }
 },
 "nbformat": 4,
 "nbformat_minor": 2
}
